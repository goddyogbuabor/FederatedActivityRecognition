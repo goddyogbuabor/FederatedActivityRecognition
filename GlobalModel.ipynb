{
 "cells": [
  {
   "cell_type": "code",
   "execution_count": 210,
   "metadata": {},
   "outputs": [],
   "source": [
    "import pandas\n",
    "import matplotlib.pyplot as plt\n",
    "from sklearn import model_selection\n",
    "from sklearn.linear_model import LogisticRegression\n",
    "from sklearn.tree import DecisionTreeClassifier\n",
    "from sklearn.neighbors import KNeighborsClassifier\n",
    "from sklearn.discriminant_analysis import LinearDiscriminantAnalysis\n",
    "from sklearn.naive_bayes import GaussianNB\n",
    "from sklearn import svm\n",
    "from sklearn.ensemble import RandomForestClassifier\n",
    "from sklearn.neural_network import MLPClassifier\n",
    "from sklearn.metrics import accuracy_score\n",
    "from sklearn.model_selection import cross_val_score\n",
    "from sklearn.model_selection import KFold"
   ]
  },
  {
   "cell_type": "code",
   "execution_count": 211,
   "metadata": {},
   "outputs": [],
   "source": [
    "import warnings\n",
    "warnings.filterwarnings(\"ignore\")"
   ]
  },
  {
   "cell_type": "code",
   "execution_count": 212,
   "metadata": {},
   "outputs": [],
   "source": [
    "train= pandas.read_csv('../GlobalModel/GlobalTrain.csv')\n",
    "#train= pandas.read_csv('../GlobalModel/Client1.csv')\n",
    "#test= pandas.read_csv('../Models/TestDataset.csv')\n",
    "#Train Dataset"
   ]
  },
  {
   "cell_type": "code",
   "execution_count": 213,
   "metadata": {},
   "outputs": [],
   "source": [
    "X_train = train.iloc[:,:36].values\n",
    "Y_train = train.iloc[:,36].values\n",
    "cv = KFold(n_splits=10, random_state=1, shuffle=True)\n",
    "seed =1"
   ]
  },
  {
   "cell_type": "code",
   "execution_count": null,
   "metadata": {},
   "outputs": [],
   "source": []
  },
  {
   "cell_type": "code",
   "execution_count": null,
   "metadata": {},
   "outputs": [],
   "source": []
  },
  {
   "cell_type": "markdown",
   "metadata": {},
   "source": [
    "# Logistic Regression Model"
   ]
  },
  {
   "cell_type": "code",
   "execution_count": 214,
   "metadata": {},
   "outputs": [
    {
     "name": "stdout",
     "output_type": "stream",
     "text": [
      "Avg accuracy: 0.7725306838106369\n"
     ]
    }
   ],
   "source": [
    "\n",
    "# create model\n",
    "model = LogisticRegression(random_state=1)\n",
    "# evaluate model\n",
    "scores = cross_val_score(model, X_train, Y_train, scoring='accuracy', cv=cv)\n",
    "# report performance\n",
    "print(\"Avg accuracy: {}\".format(scores.mean()))"
   ]
  },
  {
   "cell_type": "markdown",
   "metadata": {},
   "source": [
    "# Random Forest Model"
   ]
  },
  {
   "cell_type": "code",
   "execution_count": 215,
   "metadata": {},
   "outputs": [
    {
     "name": "stdout",
     "output_type": "stream",
     "text": [
      "Avg accuracy: 0.9201928696668615\n"
     ]
    }
   ],
   "source": [
    "\n",
    "#Train model\n",
    "model = RandomForestClassifier(random_state=0)\n",
    "# evaluate model\n",
    "scores = cross_val_score(model, X_train, Y_train, scoring='accuracy', cv=cv)\n",
    "# report performance\n",
    "print(\"Avg accuracy: {}\".format(scores.mean()))"
   ]
  },
  {
   "cell_type": "markdown",
   "metadata": {},
   "source": [
    "# K-Nearest Neighbor Model"
   ]
  },
  {
   "cell_type": "code",
   "execution_count": 216,
   "metadata": {},
   "outputs": [
    {
     "name": "stdout",
     "output_type": "stream",
     "text": [
      "Avg accuracy: 0.9235534774985388\n"
     ]
    }
   ],
   "source": [
    "#Train model\n",
    "model = KNeighborsClassifier()\n",
    "# evaluate model\n",
    "scores = cross_val_score(model, X_train, Y_train, scoring='accuracy', cv=cv)\n",
    "# report performance\n",
    "print(\"Avg accuracy: {}\".format(scores.mean()))"
   ]
  },
  {
   "cell_type": "markdown",
   "metadata": {},
   "source": [
    "# Support Vector Machine Model"
   ]
  },
  {
   "cell_type": "code",
   "execution_count": 217,
   "metadata": {},
   "outputs": [
    {
     "name": "stdout",
     "output_type": "stream",
     "text": [
      "Avg accuracy: 0.814874342489772\n"
     ]
    }
   ],
   "source": [
    "#Train model\n",
    "model = svm.SVC(kernel='linear')\n",
    "#model = svm.SVC()\n",
    "# evaluate model\n",
    "scores = cross_val_score(model, X_train, Y_train, scoring='accuracy', cv=cv)\n",
    "# report performance\n",
    "print(\"Avg accuracy: {}\".format(scores.mean()))"
   ]
  },
  {
   "cell_type": "markdown",
   "metadata": {},
   "source": [
    "# Decision Tree Model"
   ]
  },
  {
   "cell_type": "code",
   "execution_count": 218,
   "metadata": {},
   "outputs": [
    {
     "name": "stdout",
     "output_type": "stream",
     "text": [
      "Avg accuracy: 0.9066627703097604\n"
     ]
    }
   ],
   "source": [
    "#Train model\n",
    "model = DecisionTreeClassifier(random_state=0)\n",
    "# evaluate model\n",
    "scores = cross_val_score(model, X_train, Y_train, scoring='accuracy', cv=cv)\n",
    "# report performance\n",
    "print(\"Avg accuracy: {}\".format(scores.mean()))"
   ]
  },
  {
   "cell_type": "markdown",
   "metadata": {},
   "source": [
    "# Naive Bayes Model"
   ]
  },
  {
   "cell_type": "code",
   "execution_count": 219,
   "metadata": {},
   "outputs": [
    {
     "name": "stdout",
     "output_type": "stream",
     "text": [
      "Avg accuracy: 0.8590590298071303\n"
     ]
    }
   ],
   "source": [
    "#Train model\n",
    "#model = svm.SVC(kernel='linear', C=1.0, class_weight='balanced')\n",
    "model = GaussianNB()\n",
    "# evaluate model\n",
    "scores = cross_val_score(model, X_train, Y_train, scoring='accuracy', cv=cv)\n",
    "# report performance\n",
    "print(\"Avg accuracy: {}\".format(scores.mean()))"
   ]
  }
 ],
 "metadata": {
  "kernelspec": {
   "display_name": "Python 3",
   "language": "python",
   "name": "python3"
  },
  "language_info": {
   "codemirror_mode": {
    "name": "ipython",
    "version": 3
   },
   "file_extension": ".py",
   "mimetype": "text/x-python",
   "name": "python",
   "nbconvert_exporter": "python",
   "pygments_lexer": "ipython3",
   "version": "3.7.3"
  }
 },
 "nbformat": 4,
 "nbformat_minor": 2
}
